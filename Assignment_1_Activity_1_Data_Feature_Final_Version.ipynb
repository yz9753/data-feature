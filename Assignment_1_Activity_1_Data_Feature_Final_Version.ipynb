{
  "nbformat": 4,
  "nbformat_minor": 0,
  "metadata": {
    "colab": {
      "provenance": [],
      "include_colab_link": true
    },
    "kernelspec": {
      "name": "python3",
      "display_name": "Python 3"
    },
    "language_info": {
      "name": "python"
    }
  },
  "cells": [
    {
      "cell_type": "markdown",
      "metadata": {
        "id": "view-in-github",
        "colab_type": "text"
      },
      "source": [
        "<a href=\"https://colab.research.google.com/github/yz9753/data-feature/blob/main/Assignment_1_Activity_1_Data_Feature_Final_Version.ipynb\" target=\"_parent\"><img src=\"https://colab.research.google.com/assets/colab-badge.svg\" alt=\"Open In Colab\"/></a>"
      ]
    },
    {
      "cell_type": "markdown",
      "source": [
        "#Data Feature: Recipe and Calories Generator\n",
        "\n",
        "\n",
        "We will build a simple data feature prototype that provides user the meal recipe and its calories.\n",
        "\n",
        "We will use two APIs:\n",
        "\n",
        "1. An API that first converts the meal name to meal ID and then returns meal recipes (SPOONACULAR API)\n",
        "2. An API that returns the calories for each ingredient of the meal and calculate the meal's total calories (NUTRITIONIX API)\n",
        "\n",
        "STEPS:\n",
        "\n",
        "- sign up for the Spoonacular API key\n",
        "- sign up for the Nutritionix API Key\n",
        "- add our API keys to collab's secrets\n",
        "- test the APIs to make sure that we understand them\n",
        "\n",
        "- write a function that converts meal name into its associated meal IDs of the Spoonacular API\n",
        "\n",
        "- write a function that returns the recipe and the ingredients of the meal\n",
        "- write a function that returns the ingredient's calories and then calculates the total calories of the meal"
      ],
      "metadata": {
        "id": "qMjP30AvKJnQ"
      }
    },
    {
      "cell_type": "markdown",
      "source": [
        "#Setting up the APIs\n",
        "\n",
        "First, we need to set up the API keys for the services we will use:\n",
        "\n",
        "STEP 1: Sign up for the Spoonacular API: https://spoonacular.com/food-api\n",
        "\n",
        "\n",
        "STEP 2: Sign up for an API Key at Nutritionix API: https://developer.nutritionix.com/admin/access_details\n",
        "\n",
        "add it to your SECRETS tab in collab too. Make sure you have your API keys stored in the SECRETS tab on the left (key icon) and named like the variables provided below. The first code cell has you prove that they are present :)"
      ],
      "metadata": {
        "id": "oIl2Si7XDhPv"
      }
    },
    {
      "cell_type": "code",
      "source": [
        "from google.colab import userdata\n",
        "\n",
        "# Retrieve API keys from Google Colab secrets\n",
        "SPOONACULAR_API_KEY = userdata.get('SPOONACULAR_API_KEY')\n",
        "NUTRITIONIX_API_KEY = userdata.get('NUTRITIONIX_API_KEY')\n",
        "\n",
        "# Print confirmation messages, do not print API keys (bad practice!)\n",
        "if SPOONACULAR_API_KEY:\n",
        "    print(\"Spoonacular API key retrieved successfully!\")\n",
        "else:\n",
        "    print(\"Failed to retrieve Spoonacular API key. Please check your setup.\")\n",
        "\n",
        "if NUTRITIONIX_API_KEY:\n",
        "    print(\"Nutritionix API key is set!\")\n",
        "else:\n",
        "    print(\"Failed to set Nutritionix API key. Please check your setup.\")"
      ],
      "metadata": {
        "id": "jxbm6U1oDp-C",
        "colab": {
          "base_uri": "https://localhost:8080/"
        },
        "outputId": "24f9eb4c-90b8-4408-80fb-da465541d411"
      },
      "execution_count": 59,
      "outputs": [
        {
          "output_type": "stream",
          "name": "stdout",
          "text": [
            "Spoonacular API key retrieved successfully!\n",
            "Nutritionix API key is set!\n"
          ]
        }
      ]
    },
    {
      "cell_type": "markdown",
      "source": [
        "# Convert the meal name to its meal ID in the Spoonacular API\n",
        "\n",
        "We will use a simple call to the Spoonacular API to convert a meal name (e.g., sushi) into the corresponding meal ID stored in the API\n",
        "\n",
        "For reference, here is the documentation to this specific API function: thttps://spoonacular.com/food-api/docs."
      ],
      "metadata": {
        "id": "G-TNsgezSut9"
      }
    },
    {
      "cell_type": "code",
      "source": [
        "#testing out the API example request and understanding its JSON output\n",
        "# in the url below, the meal that matches the meal ID 716429 is Pasta with Garlic, Scallions, Cauliflower & Breadcrumbs\n",
        "import requests\n",
        "\n",
        "url = f'https://api.spoonacular.com/recipes/complexSearch?query=pasta&maxFat=25&number=2&apiKey={SPOONACULAR_API_KEY}'\n",
        "r = requests.get(url)\n",
        "data = r.json()\n",
        "print(data)\n"
      ],
      "metadata": {
        "colab": {
          "base_uri": "https://localhost:8080/"
        },
        "id": "VjT1avNHVOOi",
        "outputId": "3d501235-ab05-4217-a18f-0e0e4a6fd779"
      },
      "execution_count": null,
      "outputs": [
        {
          "output_type": "stream",
          "name": "stdout",
          "text": [
            "{'results': [{'id': 642583, 'title': 'Farfalle with Peas, Ham and Cream', 'image': 'https://img.spoonacular.com/recipes/642583-312x231.jpg', 'imageType': 'jpg', 'nutrition': {'nutrients': [{'name': 'Fat', 'amount': 15.9996, 'unit': 'g'}]}}, {'id': 667704, 'title': 'Shrimp, Bacon, Avocado Pasta Salad', 'image': 'https://img.spoonacular.com/recipes/667704-312x231.jpg', 'imageType': 'jpg', 'nutrition': {'nutrients': [{'name': 'Fat', 'amount': 24.4227, 'unit': 'g'}]}}], 'offset': 0, 'number': 2, 'totalResults': 130}\n"
          ]
        }
      ]
    },
    {
      "cell_type": "code",
      "source": [
        "# In the JSON output, it looks like we get JSON back where the key 'results' has an array of key value pairs, and 'id' is the name associated with the meal name.\n",
        "# Now we can create a function to convert meal name to ID\n",
        "import requests\n",
        "\n",
        "def get_meal_ID(meal_name):\n",
        "    # replaced the query with the variable meal_name that stores the user input\n",
        "    url = f'https://api.spoonacular.com/recipes/complexSearch?apiKey={SPOONACULAR_API_KEY}&query={meal_name}&number=1'\n",
        "    response = requests.get(url)\n",
        "    if response.status_code == 200:\n",
        "        data = response.json()\n",
        "        if 'results' in data and data['results']:\n",
        "            meal_id = data['results'][0]['id']\n",
        "            return meal_id\n",
        "        else:\n",
        "            print(\"Meal ID not found. Please check the meal name and try again.\")\n",
        "            return None\n",
        "    else:\n",
        "        print(\"Failed to retrieve meal ID. Status code:\", response.status_code)\n",
        "        return None\n",
        "\n",
        "# Test this and see if we can store a ID\n",
        "meal_name = 'sushi'\n",
        "meal_ID = get_meal_ID(meal_name)\n",
        "print(f'The meal ID for {meal_name} is {meal_ID}')"
      ],
      "metadata": {
        "colab": {
          "base_uri": "https://localhost:8080/"
        },
        "id": "nD15zcdeHuf4",
        "outputId": "225f86eb-8492-4ea2-9198-db65c875e6b8"
      },
      "execution_count": null,
      "outputs": [
        {
          "output_type": "stream",
          "name": "stdout",
          "text": [
            "The meal ID for sushi is 648506\n"
          ]
        }
      ]
    },
    {
      "cell_type": "markdown",
      "source": [
        "# Generate meal recipe URL and its full ingredient list\n",
        "\n",
        "We will use a simple call to the Spoonacular API to generate the meal recipe's URL (the top result) and ingredient of the meal ID\n",
        "\n",
        "For reference, here is the documentation to this specific API function: https://spoonacular.com/food-api/docs#Get-Recipe-Information"
      ],
      "metadata": {
        "id": "qwCv7k0ZTT5u"
      }
    },
    {
      "cell_type": "code",
      "source": [
        "#testing out the API example request and understanding its JSON output\n",
        "# in the url below, the meal that matches the meal ID 716429 is Pasta with Garlic, Scallions, Cauliflower & Breadcrumbs\n",
        "import requests\n",
        "\n",
        "url = f'https://api.spoonacular.com/recipes/716429/information?apiKey={SPOONACULAR_API_KEY}&includeNutrition=false'\n",
        "r = requests.get(url)\n",
        "data = r.json()\n",
        "print(data)\n"
      ],
      "metadata": {
        "colab": {
          "base_uri": "https://localhost:8080/"
        },
        "id": "W9XnuhnyE78o",
        "outputId": "6866be28-2f95-449d-9e83-6989ff26795c"
      },
      "execution_count": null,
      "outputs": [
        {
          "output_type": "stream",
          "name": "stdout",
          "text": [
            "{'vegetarian': False, 'vegan': False, 'glutenFree': False, 'dairyFree': False, 'veryHealthy': False, 'cheap': False, 'veryPopular': False, 'sustainable': False, 'lowFodmap': False, 'weightWatcherSmartPoints': 16, 'gaps': 'no', 'preparationMinutes': 20, 'cookingMinutes': 25, 'aggregateLikes': 209, 'healthScore': 18, 'creditsText': 'Full Belly Sisters', 'license': 'CC BY-SA 3.0', 'sourceName': 'Full Belly Sisters', 'pricePerServing': 157.06, 'extendedIngredients': [{'id': 1001, 'aisle': 'Milk, Eggs, Other Dairy', 'image': 'butter-sliced.jpg', 'consistency': 'SOLID', 'name': 'butter', 'nameClean': 'butter', 'original': '1 tbsp butter', 'originalName': 'butter', 'amount': 1.0, 'unit': 'tbsp', 'meta': [], 'measures': {'us': {'amount': 1.0, 'unitShort': 'Tbsp', 'unitLong': 'Tbsp'}, 'metric': {'amount': 1.0, 'unitShort': 'Tbsp', 'unitLong': 'Tbsp'}}}, {'id': 10011135, 'aisle': 'Produce', 'image': 'cauliflower.jpg', 'consistency': 'SOLID', 'name': 'cauliflower florets', 'nameClean': 'cauliflower florets', 'original': 'about 2 cups frozen cauliflower florets, thawed, cut into bite-sized pieces', 'originalName': 'about frozen cauliflower florets, thawed, cut into bite-sized pieces', 'amount': 2.0, 'unit': 'cups', 'meta': ['frozen', 'thawed', 'cut into bite-sized pieces'], 'measures': {'us': {'amount': 2.0, 'unitShort': 'cups', 'unitLong': 'cups'}, 'metric': {'amount': 200.0, 'unitShort': 'g', 'unitLong': 'grams'}}}, {'id': 1038, 'aisle': 'Cheese', 'image': 'parmesan.jpg', 'consistency': 'SOLID', 'name': 'cheese', 'nameClean': 'pecorino romano', 'original': '2 tbsp grated cheese (I used romano)', 'originalName': 'grated cheese (I used romano)', 'amount': 2.0, 'unit': 'tbsp', 'meta': ['grated', '(I used romano)'], 'measures': {'us': {'amount': 2.0, 'unitShort': 'Tbsps', 'unitLong': 'Tbsps'}, 'metric': {'amount': 2.0, 'unitShort': 'Tbsps', 'unitLong': 'Tbsps'}}}, {'id': 1034053, 'aisle': 'Oil, Vinegar, Salad Dressing', 'image': 'olive-oil.jpg', 'consistency': 'LIQUID', 'name': 'extra virgin olive oil', 'nameClean': 'extra virgin olive oil', 'original': '1-2 tbsp extra virgin olive oil', 'originalName': 'extra virgin olive oil', 'amount': 1.0, 'unit': 'tbsp', 'meta': [], 'measures': {'us': {'amount': 1.0, 'unitShort': 'Tbsp', 'unitLong': 'Tbsp'}, 'metric': {'amount': 1.0, 'unitShort': 'Tbsp', 'unitLong': 'Tbsp'}}}, {'id': 11215, 'aisle': 'Produce', 'image': 'garlic.png', 'consistency': 'SOLID', 'name': 'garlic', 'nameClean': 'garlic', 'original': '5-6 cloves garlic', 'originalName': 'garlic', 'amount': 5.0, 'unit': 'cloves', 'meta': [], 'measures': {'us': {'amount': 5.0, 'unitShort': 'cloves', 'unitLong': 'cloves'}, 'metric': {'amount': 5.0, 'unitShort': 'cloves', 'unitLong': 'cloves'}}}, {'id': 10720420, 'aisle': 'Pasta and Rice', 'image': 'spaghetti.jpg', 'consistency': 'SOLID', 'name': 'pasta', 'nameClean': 'linguine', 'original': '6-8 ounces pasta (I used linguine)', 'originalName': 'pasta (I used linguine)', 'amount': 6.0, 'unit': 'ounces', 'meta': ['(I used linguine)'], 'measures': {'us': {'amount': 6.0, 'unitShort': 'oz', 'unitLong': 'ounces'}, 'metric': {'amount': 170.097, 'unitShort': 'g', 'unitLong': 'grams'}}}, {'id': 1032009, 'aisle': 'Spices and Seasonings', 'image': 'red-pepper-flakes.jpg', 'consistency': 'SOLID', 'name': 'couple of pepper flakes', 'nameClean': 'red pepper flakes', 'original': 'couple of pinches red pepper flakes, optional', 'originalName': 'couple of red pepper flakes, optional', 'amount': 2.0, 'unit': 'pinches', 'meta': ['red'], 'measures': {'us': {'amount': 2.0, 'unitShort': 'pinches', 'unitLong': 'pinches'}, 'metric': {'amount': 2.0, 'unitShort': 'pinches', 'unitLong': 'pinches'}}}, {'id': 1102047, 'aisle': 'Spices and Seasonings', 'image': 'salt-and-pepper.jpg', 'consistency': 'SOLID', 'name': 'salt and pepper', 'nameClean': 'salt and pepper', 'original': 'salt and pepper, to taste', 'originalName': 'salt and pepper, to taste', 'amount': 2.0, 'unit': 'servings', 'meta': ['to taste'], 'measures': {'us': {'amount': 2.0, 'unitShort': 'servings', 'unitLong': 'servings'}, 'metric': {'amount': 2.0, 'unitShort': 'servings', 'unitLong': 'servings'}}}, {'id': 11291, 'aisle': 'Produce', 'image': 'spring-onions.jpg', 'consistency': 'SOLID', 'name': 'scallions', 'nameClean': 'spring onions', 'original': '3 scallions, chopped, white and green parts separated', 'originalName': 'scallions, chopped, white and green parts separated', 'amount': 3.0, 'unit': '', 'meta': ['white', 'green', 'separated', 'chopped'], 'measures': {'us': {'amount': 3.0, 'unitShort': '', 'unitLong': ''}, 'metric': {'amount': 3.0, 'unitShort': '', 'unitLong': ''}}}, {'id': 14106, 'aisle': 'Alcoholic Beverages', 'image': 'white-wine.jpg', 'consistency': 'LIQUID', 'name': 'white wine', 'nameClean': 'dry white wine', 'original': '2-3 tbsp white wine', 'originalName': 'white wine', 'amount': 2.0, 'unit': 'tbsp', 'meta': [], 'measures': {'us': {'amount': 2.0, 'unitShort': 'Tbsps', 'unitLong': 'Tbsps'}, 'metric': {'amount': 2.0, 'unitShort': 'Tbsps', 'unitLong': 'Tbsps'}}}, {'id': 99025, 'aisle': 'Pasta and Rice', 'image': 'breadcrumbs.jpg', 'consistency': 'SOLID', 'name': 'bread crumbs', 'nameClean': 'whole wheat breadcrumbs', 'original': '1/4 cup whole wheat bread crumbs (I used panko)', 'originalName': 'whole wheat bread crumbs (I used panko)', 'amount': 0.25, 'unit': 'cup', 'meta': ['whole wheat', '(I used panko)'], 'measures': {'us': {'amount': 0.25, 'unitShort': 'cups', 'unitLong': 'cups'}, 'metric': {'amount': 27.0, 'unitShort': 'g', 'unitLong': 'grams'}}}], 'id': 716429, 'title': 'Pasta with Garlic, Scallions, Cauliflower & Breadcrumbs', 'readyInMinutes': 45, 'servings': 2, 'sourceUrl': 'https://fullbellysisters.blogspot.com/2012/06/pasta-with-garlic-scallions-cauliflower.html', 'image': 'https://img.spoonacular.com/recipes/716429-556x370.jpg', 'imageType': 'jpg', 'summary': 'You can never have too many main course recipes, so give Pasta with Garlic, Scallions, Cauliflower & Breadcrumbs a try. One serving contains <b>543 calories</b>, <b>17g of protein</b>, and <b>16g of fat</b>. For <b>$1.57 per serving</b>, this recipe <b>covers 22%</b> of your daily requirements of vitamins and minerals. This recipe serves 2. A mixture of butter, white wine, pasta, and a handful of other ingredients are all it takes to make this recipe so yummy. 209 people have tried and liked this recipe. It is brought to you by fullbellysisters.blogspot.com. From preparation to the plate, this recipe takes approximately <b>45 minutes</b>. Taking all factors into account, this recipe <b>earns a spoonacular score of 83%</b>, which is tremendous. If you like this recipe, take a look at these similar recipes: <a href=\"https://spoonacular.com/recipes/pasta-with-garlic-scallions-cauliflower-breadcrumbs-1230187\">Pasta with Garlic, Scallions, Cauliflower & Breadcrumbs</a>, <a href=\"https://spoonacular.com/recipes/pasta-with-garlic-scallions-cauliflower-breadcrumbs-1229807\">Pasta with Garlic, Scallions, Cauliflower & Breadcrumbs</a>, and <a href=\"https://spoonacular.com/recipes/pasta-with-garlic-scallions-cauliflower-breadcrumbs-1229669\">Pasta with Garlic, Scallions, Cauliflower & Breadcrumbs</a>.', 'cuisines': [], 'dishTypes': ['side dish', 'lunch', 'main course', 'main dish', 'dinner'], 'diets': [], 'occasions': [], 'instructions': '', 'analyzedInstructions': [], 'originalId': None, 'spoonacularScore': 83.88423919677734, 'spoonacularSourceUrl': 'https://spoonacular.com/pasta-with-garlic-scallions-cauliflower-breadcrumbs-716429'}\n"
          ]
        }
      ]
    },
    {
      "cell_type": "code",
      "source": [
        "# In the JSON output, it looks like we get JSON back where the key 'extendedIngredients' has an array of key value pairs, and 'amount', 'unit' and 'originalName' are the names associated with the meal ID.\n",
        "# Function to get meal recipes, including their ingredients\n",
        "def get_meal_recipes(meal_ID):\n",
        "\n",
        "    # Construct the URL for the Spoonacular API\n",
        "    url = f'https://api.spoonacular.com/recipes/{meal_ID}/information?apiKey={SPOONACULAR_API_KEY}&includeNutrition=false'\n",
        "\n",
        "    # Send a GET request to the Spoonacular API to get the meal recipe information\n",
        "    response = requests.get(url)\n",
        "\n",
        "    # Check if the response is successful (status code 200)\n",
        "    if response.status_code == 200:\n",
        "\n",
        "        data = response.json()\n",
        "\n",
        "        # Extract the URL of the recipe from the data\n",
        "        URL = data.get('sourceUrl')\n",
        "\n",
        "        #Extract the Serving size of the recipe from the data\n",
        "        serving_size = data.get('servings')\n",
        "\n",
        "        # Extract the list of ingredients (each ingredient is stored in the 'extendedIngredients' field)\n",
        "        ingredients = data.get('extendedIngredients', [])\n",
        "\n",
        "        # Initialize an empty list to store formatted ingredients\n",
        "        full_ingredient_list = []\n",
        "\n",
        "        # Loop through each ingredient in the list\n",
        "        for ingredient in ingredients:\n",
        "            # amount, unit, and originalName are all names associated with each ingredient (identified from the JSON output above)\n",
        "            amount = ingredient.get('amount', '')\n",
        "            unit = ingredient.get('unit', '')\n",
        "            original_name = ingredient.get('originalName', '')\n",
        "\n",
        "            # Format the ingredient as \"amount unit ingredient name\", and remove any leading/trailing spaces\n",
        "            full_ingredient = f\"{amount} {unit} {original_name}\".strip()\n",
        "\n",
        "            # Add the formatted ingredient to the full ingredient list\n",
        "            full_ingredient_list.append(full_ingredient)\n",
        "\n",
        "        # Join all ingredients into a single string, separated by commas\n",
        "        combined_ingredient = ','.join(full_ingredient_list)\n",
        "\n",
        "        # Join the ingredients, separated by new lines (for more readable formatting)\n",
        "        organized_ingredients = '\\n'.join(full_ingredient_list)\n",
        "\n",
        "        # Return the variables\n",
        "        return URL, serving_size, combined_ingredient, organized_ingredients, ingredients\n",
        "    else:\n",
        "        # If the API request fails, print the status code and return None for all values\n",
        "        print(\"Failed to retrieve recipe information. Status code:\", response.status_code)\n",
        "        return None, None, None, None\n",
        "\n",
        "# Test out that the function works\n",
        "URL, serving_size, combined_ingredient, organized_ingredients, ingredients = get_meal_recipes(meal_ID)\n",
        "\n",
        "# Print out the variables\n",
        "print(f\"URL: {URL}\")\n",
        "print(f\"Serving Size: {serving_size}\")\n",
        "print(f\"Combined Ingredients:\\n{combined_ingredient}\")\n",
        "print(f\"Organized Ingredients:\\n{organized_ingredients}\")\n",
        "#print(f\"Ingredients List: {ingredients}\") test it for reference"
      ],
      "metadata": {
        "id": "hJWkxvbFI1pX",
        "colab": {
          "base_uri": "https://localhost:8080/"
        },
        "outputId": "cf973d3b-fea1-4db5-d1d3-264721098de9"
      },
      "execution_count": null,
      "outputs": [
        {
          "output_type": "stream",
          "name": "stdout",
          "text": [
            "URL: https://www.foodista.com/recipe/ZHC2WBHW/japanese-sushi\n",
            "Serving Size: 1\n",
            "Combined Ingredients:\n",
            "1.0 serving Cooked octopus,1.0 serving Cooked prawns,1.0 serving Raw tuna,1.0 serving Salmon,1.0 serving Salmon caviar,1.0 serving Japanese sticky rice,1.0 serving Lava seaweed,1.0 serving Wasabi,1.0 serving Asparagus,1.0 serving Shiitake mushrooms\n",
            "Organized Ingredients:\n",
            "1.0 serving Cooked octopus\n",
            "1.0 serving Cooked prawns\n",
            "1.0 serving Raw tuna\n",
            "1.0 serving Salmon\n",
            "1.0 serving Salmon caviar\n",
            "1.0 serving Japanese sticky rice\n",
            "1.0 serving Lava seaweed\n",
            "1.0 serving Wasabi\n",
            "1.0 serving Asparagus\n",
            "1.0 serving Shiitake mushrooms\n"
          ]
        }
      ]
    },
    {
      "cell_type": "markdown",
      "source": [
        "# Get the calories for each ingredient and then calculate total calories of the meal\n",
        "\n",
        "We will use a simple call to the NutritionIX API to get the corresponding calories for each ingredient and then we will create a simple variable that calculates the total calories\n",
        "\n",
        "\n",
        "In the NutritionIX API, they have a endpoint called 'Natural Language for Nutrients', and here is the documentation:\n",
        "https://docx.syndigo.com/developers/docs/natural-language-for-nutrients"
      ],
      "metadata": {
        "id": "G6K_--eSXT6u"
      }
    },
    {
      "cell_type": "code",
      "source": [
        "# Trying the API out to see the JSON output\n",
        "# The API documentation sample request is in JavaScript, we just converted it into Python\n",
        "\n",
        "import requests\n",
        "import json\n",
        "\n",
        "url = 'https://trackapi.nutritionix.com/v2/natural/nutrients'\n",
        "headers = {\n",
        "  'Content-Type': 'application/json',\n",
        "  'x-app-id': 'insert app id', # Attention: In order to run this function, please use the app-id included in the assignment submission\n",
        "  'x-app-key': NUTRITIONIX_API_KEY,\n",
        "}\n",
        "#Body of the request\n",
        "body = {\n",
        "  \"query\": '1 apple'\n",
        "}\n",
        "\n",
        "\n",
        "# Send the POST request\n",
        "response = requests.post(url, headers=headers, json=body)\n",
        "# Check if the request was successful\n",
        "if response.status_code == 200:\n",
        "    # Print the JSON response\n",
        "    print(response.json())\n",
        "else:\n",
        "    # Print error information\n",
        "    print(f\"Failed to retrieve data. Status code: {response.status_code}\")\n",
        "    print(response.text)"
      ],
      "metadata": {
        "colab": {
          "base_uri": "https://localhost:8080/"
        },
        "id": "GMoEr7bZ37WH",
        "outputId": "a8c67116-5eb1-4b19-cc0e-0b7e991c440c"
      },
      "execution_count": 62,
      "outputs": [
        {
          "output_type": "stream",
          "name": "stdout",
          "text": [
            "{'foods': [{'food_name': 'apple', 'brand_name': None, 'serving_qty': 1, 'serving_unit': 'medium (3\" dia)', 'serving_weight_grams': 182, 'nf_calories': 94.64, 'nf_total_fat': 0.31, 'nf_saturated_fat': 0.05, 'nf_cholesterol': 0, 'nf_sodium': 1.82, 'nf_total_carbohydrate': 25.13, 'nf_dietary_fiber': 4.37, 'nf_sugars': 18.91, 'nf_protein': 0.47, 'nf_potassium': 194.74, 'nf_p': 20.02, 'full_nutrients': [{'attr_id': 203, 'value': 0.4732}, {'attr_id': 204, 'value': 0.3094}, {'attr_id': 205, 'value': 25.1342}, {'attr_id': 207, 'value': 0.3458}, {'attr_id': 208, 'value': 94.64}, {'attr_id': 209, 'value': 0.091}, {'attr_id': 210, 'value': 3.7674}, {'attr_id': 211, 'value': 4.4226}, {'attr_id': 212, 'value': 10.738}, {'attr_id': 213, 'value': 0}, {'attr_id': 214, 'value': 0}, {'attr_id': 221, 'value': 0}, {'attr_id': 255, 'value': 155.7192}, {'attr_id': 262, 'value': 0}, {'attr_id': 263, 'value': 0}, {'attr_id': 268, 'value': 396.76}, {'attr_id': 269, 'value': 18.9098}, {'attr_id': 287, 'value': 0}, {'attr_id': 291, 'value': 4.368}, {'attr_id': 301, 'value': 10.92}, {'attr_id': 303, 'value': 0.2184}, {'attr_id': 304, 'value': 9.1}, {'attr_id': 305, 'value': 20.02}, {'attr_id': 306, 'value': 194.74}, {'attr_id': 307, 'value': 1.82}, {'attr_id': 309, 'value': 0.0728}, {'attr_id': 312, 'value': 0.0491}, {'attr_id': 313, 'value': 6.006}, {'attr_id': 315, 'value': 0.0637}, {'attr_id': 317, 'value': 0}, {'attr_id': 318, 'value': 98.28}, {'attr_id': 319, 'value': 0}, {'attr_id': 320, 'value': 5.46}, {'attr_id': 321, 'value': 49.14}, {'attr_id': 322, 'value': 0}, {'attr_id': 323, 'value': 0.3276}, {'attr_id': 324, 'value': 0}, {'attr_id': 328, 'value': 0}, {'attr_id': 334, 'value': 20.02}, {'attr_id': 337, 'value': 0}, {'attr_id': 338, 'value': 52.78}, {'attr_id': 341, 'value': 0}, {'attr_id': 342, 'value': 0}, {'attr_id': 343, 'value': 0}, {'attr_id': 401, 'value': 8.372}, {'attr_id': 404, 'value': 0.0309}, {'attr_id': 405, 'value': 0.0473}, {'attr_id': 406, 'value': 0.1656}, {'attr_id': 410, 'value': 0.111}, {'attr_id': 415, 'value': 0.0746}, {'attr_id': 417, 'value': 5.46}, {'attr_id': 418, 'value': 0}, {'attr_id': 421, 'value': 6.188}, {'attr_id': 429, 'value': 0}, {'attr_id': 430, 'value': 4.004}, {'attr_id': 431, 'value': 0}, {'attr_id': 432, 'value': 5.46}, {'attr_id': 435, 'value': 5.46}, {'attr_id': 454, 'value': 0.182}, {'attr_id': 501, 'value': 0.0018}, {'attr_id': 502, 'value': 0.0109}, {'attr_id': 503, 'value': 0.0109}, {'attr_id': 504, 'value': 0.0237}, {'attr_id': 505, 'value': 0.0218}, {'attr_id': 506, 'value': 0.0018}, {'attr_id': 507, 'value': 0.0018}, {'attr_id': 508, 'value': 0.0109}, {'attr_id': 509, 'value': 0.0018}, {'attr_id': 510, 'value': 0.0218}, {'attr_id': 511, 'value': 0.0109}, {'attr_id': 512, 'value': 0.0091}, {'attr_id': 513, 'value': 0.02}, {'attr_id': 514, 'value': 0.1274}, {'attr_id': 515, 'value': 0.0455}, {'attr_id': 516, 'value': 0.0164}, {'attr_id': 517, 'value': 0.0109}, {'attr_id': 518, 'value': 0.0182}, {'attr_id': 601, 'value': 0}, {'attr_id': 605, 'value': 0}, {'attr_id': 606, 'value': 0.051}, {'attr_id': 607, 'value': 0}, {'attr_id': 608, 'value': 0}, {'attr_id': 609, 'value': 0}, {'attr_id': 610, 'value': 0}, {'attr_id': 611, 'value': 0}, {'attr_id': 612, 'value': 0.0018}, {'attr_id': 613, 'value': 0.0437}, {'attr_id': 614, 'value': 0.0055}, {'attr_id': 617, 'value': 0.0127}, {'attr_id': 618, 'value': 0.0783}, {'attr_id': 619, 'value': 0.0164}, {'attr_id': 620, 'value': 0}, {'attr_id': 621, 'value': 0}, {'attr_id': 626, 'value': 0}, {'attr_id': 627, 'value': 0}, {'attr_id': 628, 'value': 0}, {'attr_id': 629, 'value': 0}, {'attr_id': 630, 'value': 0}, {'attr_id': 631, 'value': 0}, {'attr_id': 636, 'value': 21.84}, {'attr_id': 645, 'value': 0.0127}, {'attr_id': 646, 'value': 0.0928}], 'nix_brand_name': None, 'nix_brand_id': None, 'nix_item_name': None, 'nix_item_id': None, 'upc': None, 'consumed_at': '2024-09-09T21:19:45+00:00', 'metadata': {'is_raw_food': False}, 'source': 1, 'ndb_no': 9003, 'tags': {'item': 'apple', 'measure': None, 'quantity': '1', 'food_group': 3, 'tag_id': 384}, 'alt_measures': [{'serving_weight': 242, 'measure': 'NLEA serving', 'seq': 7, 'qty': 1}, {'serving_weight': 101, 'measure': 'extra small (2-1/2\" dia)', 'seq': 6, 'qty': 1}, {'serving_weight': 149, 'measure': 'small (2-3/4\" dia)', 'seq': 5, 'qty': 1}, {'serving_weight': 182, 'measure': 'medium (3\" dia)', 'seq': 4, 'qty': 1}, {'serving_weight': 223, 'measure': 'large (3-1/4\" dia)', 'seq': 3, 'qty': 1}, {'serving_weight': 109, 'measure': 'cup slices', 'seq': 2, 'qty': 1}, {'serving_weight': 125, 'measure': 'cup, quartered or chopped', 'seq': 1, 'qty': 1}, {'serving_weight': 28.35, 'measure': 'oz', 'seq': 80, 'qty': 1}, {'serving_weight': 100, 'measure': 'g', 'seq': None, 'qty': 100}], 'lat': None, 'lng': None, 'meal_type': 5, 'photo': {'thumb': 'https://nix-tag-images.s3.amazonaws.com/384_thumb.jpg', 'highres': 'https://nix-tag-images.s3.amazonaws.com/384_highres.jpg', 'is_user_uploaded': False}, 'sub_recipe': None, 'class_code': None, 'brick_code': None, 'tag_id': None}]}\n"
          ]
        }
      ]
    },
    {
      "cell_type": "code",
      "source": [
        "# In the JSON output, it looks like we get JSON back where the key 'foods' has an array of key value pairs, and 'food_name', 'nf_calories' are the names associated with the meal ID.\n",
        "# Function to get calorie information for ingredients\n",
        "\n",
        "import requests\n",
        "\n",
        "\n",
        "def get_calories(ingredients):\n",
        "    # URL and headers for the Nutritionix API\n",
        "    url = 'https://trackapi.nutritionix.com/v2/natural/nutrients'\n",
        "    headers = {\n",
        "        'Content-Type': 'application/json',\n",
        "        'x-app-id': 'insert app id', # Attention: In order to run this function, please use the app-id included in the assignment submission\n",
        "        'x-app-key': NUTRITIONIX_API_KEY,\n",
        "    }\n",
        "\n",
        "     # Create a query string from the ingredient names and amounts\n",
        "    ingredient_query = ' '.join(f\"{ingredient['amount']} {ingredient['unit']} {ingredient['originalName']}\" for ingredient in ingredients)\n",
        "\n",
        "    body = {\n",
        "        \"query\": ingredient_query\n",
        "    }\n",
        "\n",
        "    # Send POST request to Nutritionix API\n",
        "    response = requests.post(url, headers=headers, json=body)\n",
        "\n",
        "    # Check if the request was successful\n",
        "    if response.status_code == 200:\n",
        "        data = response.json()\n",
        "        total_calories = 0\n",
        "        ingredient_calories = {}\n",
        "\n",
        "        # Process the API response\n",
        "        for item in data.get('foods', []):\n",
        "            food_name = item.get('food_name')\n",
        "            calories = item.get('nf_calories')\n",
        "            if calories:\n",
        "                ingredient_calories[food_name] = calories\n",
        "                total_calories += calories\n",
        "\n",
        "        # Return the result\n",
        "        return ingredient_calories, round(total_calories, 2)\n",
        "    else:\n",
        "        print(\"Failed to retrieve calorie information. Status code:\", response.status_code)\n",
        "        print(response.text)  # Print more information about the error\n",
        "        return {}, None\n",
        "\n",
        "\n",
        "\n",
        "ingredient_calories, total_calories = get_calories(ingredients)\n",
        "print(\"Ingredient calories:\", ingredient_calories)\n",
        "print(\"Total calories:\", total_calories)\n"
      ],
      "metadata": {
        "colab": {
          "base_uri": "https://localhost:8080/"
        },
        "id": "FUUjlm_RK-wp",
        "outputId": "5e247908-6a58-4447-edb5-9960d9e7a1b3"
      },
      "execution_count": 64,
      "outputs": [
        {
          "output_type": "stream",
          "name": "stdout",
          "text": [
            "Ingredient calories: {'cooked octopus': 139.4, 'prawns': 5.95, 'raw tuna': 30.9, 'salmon': 467.62, 'salmon caviar': 40.54, 'sticky rice': 128.96, 'seaweed': 0.91, 'wasabi': 58.4, 'asparagus': 3.3, 'shiitake mushrooms': 6.46}\n",
            "Total calories: 882.44\n"
          ]
        }
      ]
    },
    {
      "cell_type": "markdown",
      "source": [
        "#Putting It All Together\n",
        "We have now built the components to:\n",
        "\n",
        "1. Convert a meal name to meal ID.\n",
        "2. Search for top recipe related to meal ID and print out its ingredient list\n",
        "3. Get the calories for each ingredient and then calculate the meal's total calories\n",
        "\n",
        "Let's combine these steps into a single function that takes a meal name as input and returns the recipe URL, ingredient list, and calories.\n",
        "\n",
        "Note: In a real data product, we would have fancy things like a UI, the ability to generate multiple meal recipes, nutrition breakdown (i.e. total fat, sodium, carbohydrate, cholesterol, protein, etc), robust error handling, etc..., but for now though we can simply have the user enter a meal and then display the top recipe result."
      ],
      "metadata": {
        "id": "7tSYoE-ZdM5r"
      }
    },
    {
      "cell_type": "code",
      "source": [
        "# Combined function to get the recipe and calorie details\n",
        "def get_recipe_and_calories(meal_name):\n",
        "    # Step 1: Use the first function we created (get_meal_ID) to retrieve the meal ID using the meal name\n",
        "    meal_ID = get_meal_ID(meal_name)\n",
        "\n",
        "    # Check if we successfully retrieved the meal ID\n",
        "    if meal_ID:\n",
        "        # Step 2: Use the second function(get_meal_recipes) to get recipe URL, serving size, and ingredients using the meal_ID\n",
        "        URL, serving_size, combined_ingredient, organized_ingredients, ingredients = get_meal_recipes(meal_ID)\n",
        "\n",
        "        # Check if we successfully retrieved the ingredients\n",
        "        if ingredients:\n",
        "            # Step 3: Use the last function(get_calories) to get calorie information using the ingredients\n",
        "            ingredient_calories, total_calories = get_calories(ingredients)\n",
        "\n",
        "            # Print the recipe URL\n",
        "            print(f'\\nHere is the recipe link: {URL}\\n')\n",
        "\n",
        "            # Print the list of ingredients\n",
        "            print(f'Here is the ingredient list:\\n{organized_ingredients}\\n')\n",
        "\n",
        "            # Print the total calories if we successfully retrieved them\n",
        "            if total_calories:\n",
        "\n",
        "                # Print calories for each ingredient\n",
        "                print(\"Calories for each ingredient:\")\n",
        "                for ingredient, calories in ingredient_calories.items():\n",
        "                    print(f'{ingredient}: {calories} kcal')\n",
        "\n",
        "                #print total calories\n",
        "                print(f'\\nTotal Calories: {total_calories}')\n",
        "\n",
        "                print(f'\\nServing Size of the recipe: {serving_size}')\n",
        "\n",
        "            else:\n",
        "                # If there was an issue retrieving total calories (error handling)\n",
        "                print(\"Failed to retrieve total calories.\")\n",
        "        else:\n",
        "            # If no recipe was found with the provided meal ID\n",
        "            print(\"No Recipe found for the meal ID entered. Please try again.\")\n",
        "    else:\n",
        "        # If no meal ID was found with the provided meal name\n",
        "        print(\"No Meal ID found for the meal name entered. Please try entering another meal name.\")\n",
        "\n",
        "# User input for meal name\n",
        "meal_name = input(\"Enter a meal name: \")\n",
        "# Call the function with the user input\n",
        "get_recipe_and_calories(meal_name)"
      ],
      "metadata": {
        "colab": {
          "base_uri": "https://localhost:8080/"
        },
        "id": "FR2A0-3KN00V",
        "outputId": "72af19de-5d71-4c40-b30f-ae148406de7f"
      },
      "execution_count": 65,
      "outputs": [
        {
          "output_type": "stream",
          "name": "stdout",
          "text": [
            "Enter a meal name: pho\n",
            "\n",
            "Here is the recipe link: https://www.foodista.com/recipe/XHZ42F62/the-easiest-beef-pho-recipe\n",
            "\n",
            "Here is the ingredient list:\n",
            "4.0 cups Bone Broth\n",
            "1.0 inch piece ginger thinly sliced\n",
            "1.0  onion cut into quarters\n",
            "2.0  cinnamon sticks\n",
            "2.0  star anise pods\n",
            "1.0  garlic clove thinly sliced\n",
            "0.25 cup fish sauce\n",
            "5.0 ounces rice noodles\n",
            "7.0 ounces beef tenderloin sliced paper thin\n",
            "0.25 cup fresh mint leaves\n",
            "0.5  lime\n",
            "1.0  green onion chopped\n",
            "\n",
            "Calories for each ingredient:\n",
            "bone broth: 163.88 kcal\n",
            "ginger: 9.6 kcal\n",
            "onion: 41.36 kcal\n",
            "cinnamon sticks: 6.42 kcal\n",
            "star anise: 1.35 kcal\n",
            "garlic clove: 4.47 kcal\n",
            "fish sauce: 25.2 kcal\n",
            "rice noodles: 153.09 kcal\n",
            "beef tenderloin: 642.6 kcal\n",
            "mint leaves: 2.64 kcal\n",
            "lime: 10.05 kcal\n",
            "green onion: 4.8 kcal\n",
            "\n",
            "Total Calories: 1065.46\n",
            "\n",
            "Serving Size of the recipe: 2\n"
          ]
        }
      ]
    }
  ]
}